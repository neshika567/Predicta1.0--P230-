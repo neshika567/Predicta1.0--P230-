{
 "cells": [
  {
   "cell_type": "code",
   "execution_count": 1,
   "id": "4b7f7851",
   "metadata": {
    "_cell_guid": "b1076dfc-b9ad-4769-8c92-a6c4dae69d19",
    "_uuid": "8f2839f25d086af736a60e9eeb907d3b93b6e0e5",
    "execution": {
     "iopub.execute_input": "2024-06-22T13:27:37.799026Z",
     "iopub.status.busy": "2024-06-22T13:27:37.798555Z",
     "iopub.status.idle": "2024-06-22T13:27:38.931601Z",
     "shell.execute_reply": "2024-06-22T13:27:38.930106Z"
    },
    "papermill": {
     "duration": 1.14289,
     "end_time": "2024-06-22T13:27:38.934426",
     "exception": false,
     "start_time": "2024-06-22T13:27:37.791536",
     "status": "completed"
    },
    "tags": []
   },
   "outputs": [
    {
     "name": "stdout",
     "output_type": "stream",
     "text": [
      "/kaggle/input/predicta-1-0-predict-the-unpredictable/submission_key.csv\n",
      "/kaggle/input/predicta-1-0-predict-the-unpredictable/sample_submission.csv\n",
      "/kaggle/input/predicta-1-0-predict-the-unpredictable/historical_weather.csv\n"
     ]
    }
   ],
   "source": [
    "# This Python 3 environment comes with many helpful analytics libraries installed\n",
    "# It is defined by the kaggle/python Docker image: https://github.com/kaggle/docker-python\n",
    "# For example, here's several helpful packages to load\n",
    "\n",
    "import numpy as np # linear algebra\n",
    "import pandas as pd # data processing, CSV file I/O (e.g. pd.read_csv)\n",
    "\n",
    "# Input data files are available in the read-only \"../input/\" directory\n",
    "# For example, running this (by clicking run or pressing Shift+Enter) will list all files under the input directory\n",
    "\n",
    "import os\n",
    "for dirname, _, filenames in os.walk('/kaggle/input'):\n",
    "    for filename in filenames:\n",
    "        print(os.path.join(dirname, filename))\n",
    "\n",
    "# You can write up to 20GB to the current directory (/kaggle/working/) that gets preserved as output when you create a version using \"Save & Run All\" \n",
    "# You can also write temporary files to /kaggle/temp/, but they won't be saved outside of the current session"
   ]
  },
  {
   "cell_type": "code",
   "execution_count": 2,
   "id": "33303a51",
   "metadata": {
    "execution": {
     "iopub.execute_input": "2024-06-22T13:27:38.946376Z",
     "iopub.status.busy": "2024-06-22T13:27:38.945797Z",
     "iopub.status.idle": "2024-06-22T13:27:40.623107Z",
     "shell.execute_reply": "2024-06-22T13:27:40.621792Z"
    },
    "papermill": {
     "duration": 1.68649,
     "end_time": "2024-06-22T13:27:40.626057",
     "exception": false,
     "start_time": "2024-06-22T13:27:38.939567",
     "status": "completed"
    },
    "tags": []
   },
   "outputs": [],
   "source": [
    "import pandas as pd\n",
    "import numpy as np\n",
    "import matplotlib.pyplot as plt\n",
    "import seaborn as sns"
   ]
  },
  {
   "cell_type": "code",
   "execution_count": 3,
   "id": "6bb137d5",
   "metadata": {
    "execution": {
     "iopub.execute_input": "2024-06-22T13:27:40.637766Z",
     "iopub.status.busy": "2024-06-22T13:27:40.637318Z",
     "iopub.status.idle": "2024-06-22T13:27:40.676738Z",
     "shell.execute_reply": "2024-06-22T13:27:40.675382Z"
    },
    "papermill": {
     "duration": 0.048488,
     "end_time": "2024-06-22T13:27:40.679505",
     "exception": false,
     "start_time": "2024-06-22T13:27:40.631017",
     "status": "completed"
    },
    "tags": []
   },
   "outputs": [
    {
     "data": {
      "text/html": [
       "<div>\n",
       "<style scoped>\n",
       "    .dataframe tbody tr th:only-of-type {\n",
       "        vertical-align: middle;\n",
       "    }\n",
       "\n",
       "    .dataframe tbody tr th {\n",
       "        vertical-align: top;\n",
       "    }\n",
       "\n",
       "    .dataframe thead th {\n",
       "        text-align: right;\n",
       "    }\n",
       "</style>\n",
       "<table border=\"1\" class=\"dataframe\">\n",
       "  <thead>\n",
       "    <tr style=\"text-align: right;\">\n",
       "      <th></th>\n",
       "      <th>submission_ID</th>\n",
       "      <th>city_id</th>\n",
       "      <th>date</th>\n",
       "    </tr>\n",
       "  </thead>\n",
       "  <tbody>\n",
       "    <tr>\n",
       "      <th>0</th>\n",
       "      <td>1</td>\n",
       "      <td>C001</td>\n",
       "      <td>2019-01-01</td>\n",
       "    </tr>\n",
       "    <tr>\n",
       "      <th>1</th>\n",
       "      <td>2</td>\n",
       "      <td>C001</td>\n",
       "      <td>2019-01-02</td>\n",
       "    </tr>\n",
       "    <tr>\n",
       "      <th>2</th>\n",
       "      <td>3</td>\n",
       "      <td>C001</td>\n",
       "      <td>2019-01-03</td>\n",
       "    </tr>\n",
       "    <tr>\n",
       "      <th>3</th>\n",
       "      <td>4</td>\n",
       "      <td>C001</td>\n",
       "      <td>2019-01-04</td>\n",
       "    </tr>\n",
       "    <tr>\n",
       "      <th>4</th>\n",
       "      <td>5</td>\n",
       "      <td>C001</td>\n",
       "      <td>2019-01-05</td>\n",
       "    </tr>\n",
       "    <tr>\n",
       "      <th>5</th>\n",
       "      <td>6</td>\n",
       "      <td>C001</td>\n",
       "      <td>2019-01-06</td>\n",
       "    </tr>\n",
       "  </tbody>\n",
       "</table>\n",
       "</div>"
      ],
      "text/plain": [
       "   submission_ID city_id        date\n",
       "0              1    C001  2019-01-01\n",
       "1              2    C001  2019-01-02\n",
       "2              3    C001  2019-01-03\n",
       "3              4    C001  2019-01-04\n",
       "4              5    C001  2019-01-05\n",
       "5              6    C001  2019-01-06"
      ]
     },
     "execution_count": 3,
     "metadata": {},
     "output_type": "execute_result"
    }
   ],
   "source": [
    "submission_key= pd.read_csv('/kaggle/input/predicta-1-0-predict-the-unpredictable/submission_key.csv')\n",
    "\n",
    "submission_key.head(6)"
   ]
  },
  {
   "cell_type": "code",
   "execution_count": 4,
   "id": "4f9250d2",
   "metadata": {
    "execution": {
     "iopub.execute_input": "2024-06-22T13:27:40.692435Z",
     "iopub.status.busy": "2024-06-22T13:27:40.691076Z",
     "iopub.status.idle": "2024-06-22T13:27:41.039303Z",
     "shell.execute_reply": "2024-06-22T13:27:41.037922Z"
    },
    "papermill": {
     "duration": 0.357424,
     "end_time": "2024-06-22T13:27:41.042043",
     "exception": false,
     "start_time": "2024-06-22T13:27:40.684619",
     "status": "completed"
    },
    "tags": []
   },
   "outputs": [
    {
     "data": {
      "text/html": [
       "<div>\n",
       "<style scoped>\n",
       "    .dataframe tbody tr th:only-of-type {\n",
       "        vertical-align: middle;\n",
       "    }\n",
       "\n",
       "    .dataframe tbody tr th {\n",
       "        vertical-align: top;\n",
       "    }\n",
       "\n",
       "    .dataframe thead th {\n",
       "        text-align: right;\n",
       "    }\n",
       "</style>\n",
       "<table border=\"1\" class=\"dataframe\">\n",
       "  <thead>\n",
       "    <tr style=\"text-align: right;\">\n",
       "      <th></th>\n",
       "      <th>city_id</th>\n",
       "      <th>date</th>\n",
       "      <th>avg_temp_c</th>\n",
       "      <th>min_temp_c</th>\n",
       "      <th>max_temp_c</th>\n",
       "      <th>precipitation_mm</th>\n",
       "      <th>snow_depth_mm</th>\n",
       "      <th>avg_wind_dir_deg</th>\n",
       "      <th>avg_wind_speed_kmh</th>\n",
       "    </tr>\n",
       "  </thead>\n",
       "  <tbody>\n",
       "    <tr>\n",
       "      <th>0</th>\n",
       "      <td>C001</td>\n",
       "      <td>2014-01-01</td>\n",
       "      <td>6.6</td>\n",
       "      <td>-1.4</td>\n",
       "      <td>11.6</td>\n",
       "      <td>NaN</td>\n",
       "      <td>NaN</td>\n",
       "      <td>168.0</td>\n",
       "      <td>6.2</td>\n",
       "    </tr>\n",
       "    <tr>\n",
       "      <th>1</th>\n",
       "      <td>C001</td>\n",
       "      <td>2014-01-02</td>\n",
       "      <td>9.3</td>\n",
       "      <td>6.3</td>\n",
       "      <td>13.3</td>\n",
       "      <td>NaN</td>\n",
       "      <td>NaN</td>\n",
       "      <td>155.0</td>\n",
       "      <td>10.0</td>\n",
       "    </tr>\n",
       "    <tr>\n",
       "      <th>2</th>\n",
       "      <td>C001</td>\n",
       "      <td>2014-01-03</td>\n",
       "      <td>7.6</td>\n",
       "      <td>1.9</td>\n",
       "      <td>14.0</td>\n",
       "      <td>NaN</td>\n",
       "      <td>NaN</td>\n",
       "      <td>NaN</td>\n",
       "      <td>5.8</td>\n",
       "    </tr>\n",
       "    <tr>\n",
       "      <th>3</th>\n",
       "      <td>C001</td>\n",
       "      <td>2014-01-04</td>\n",
       "      <td>7.6</td>\n",
       "      <td>3.9</td>\n",
       "      <td>13.3</td>\n",
       "      <td>NaN</td>\n",
       "      <td>NaN</td>\n",
       "      <td>291.0</td>\n",
       "      <td>11.3</td>\n",
       "    </tr>\n",
       "    <tr>\n",
       "      <th>4</th>\n",
       "      <td>C001</td>\n",
       "      <td>2014-01-05</td>\n",
       "      <td>8.6</td>\n",
       "      <td>0.5</td>\n",
       "      <td>16.9</td>\n",
       "      <td>NaN</td>\n",
       "      <td>NaN</td>\n",
       "      <td>NaN</td>\n",
       "      <td>5.0</td>\n",
       "    </tr>\n",
       "    <tr>\n",
       "      <th>5</th>\n",
       "      <td>C001</td>\n",
       "      <td>2014-01-06</td>\n",
       "      <td>9.1</td>\n",
       "      <td>5.7</td>\n",
       "      <td>14.7</td>\n",
       "      <td>NaN</td>\n",
       "      <td>NaN</td>\n",
       "      <td>156.0</td>\n",
       "      <td>5.7</td>\n",
       "    </tr>\n",
       "  </tbody>\n",
       "</table>\n",
       "</div>"
      ],
      "text/plain": [
       "  city_id        date  avg_temp_c  min_temp_c  max_temp_c  precipitation_mm  \\\n",
       "0    C001  2014-01-01         6.6        -1.4        11.6               NaN   \n",
       "1    C001  2014-01-02         9.3         6.3        13.3               NaN   \n",
       "2    C001  2014-01-03         7.6         1.9        14.0               NaN   \n",
       "3    C001  2014-01-04         7.6         3.9        13.3               NaN   \n",
       "4    C001  2014-01-05         8.6         0.5        16.9               NaN   \n",
       "5    C001  2014-01-06         9.1         5.7        14.7               NaN   \n",
       "\n",
       "   snow_depth_mm  avg_wind_dir_deg  avg_wind_speed_kmh  \n",
       "0            NaN             168.0                 6.2  \n",
       "1            NaN             155.0                10.0  \n",
       "2            NaN               NaN                 5.8  \n",
       "3            NaN             291.0                11.3  \n",
       "4            NaN               NaN                 5.0  \n",
       "5            NaN             156.0                 5.7  "
      ]
     },
     "execution_count": 4,
     "metadata": {},
     "output_type": "execute_result"
    }
   ],
   "source": [
    "historical_w= pd.read_csv('/kaggle/input/predicta-1-0-predict-the-unpredictable/historical_weather.csv')\n",
    "\n",
    "historical_w.head(6)\n",
    "#historical_w.info()\n",
    "#historical_w.shape ---> (182338, 9)"
   ]
  },
  {
   "cell_type": "code",
   "execution_count": 5,
   "id": "df2ea333",
   "metadata": {
    "execution": {
     "iopub.execute_input": "2024-06-22T13:27:41.055320Z",
     "iopub.status.busy": "2024-06-22T13:27:41.054853Z",
     "iopub.status.idle": "2024-06-22T13:27:41.248988Z",
     "shell.execute_reply": "2024-06-22T13:27:41.247022Z"
    },
    "papermill": {
     "duration": 0.204417,
     "end_time": "2024-06-22T13:27:41.251992",
     "exception": false,
     "start_time": "2024-06-22T13:27:41.047575",
     "status": "completed"
    },
    "tags": []
   },
   "outputs": [
    {
     "name": "stderr",
     "output_type": "stream",
     "text": [
      "/tmp/ipykernel_18/3142546144.py:4: FutureWarning: DataFrame.fillna with 'method' is deprecated and will raise in a future version. Use obj.ffill() or obj.bfill() instead.\n",
      "  historical_w.fillna(method='ffill', inplace=True)\n"
     ]
    },
    {
     "data": {
      "text/plain": [
       "city_id                  0\n",
       "date                     0\n",
       "avg_temp_c               0\n",
       "min_temp_c               0\n",
       "max_temp_c               0\n",
       "precipitation_mm        33\n",
       "snow_depth_mm         5452\n",
       "avg_wind_dir_deg         0\n",
       "avg_wind_speed_kmh       0\n",
       "dtype: int64"
      ]
     },
     "execution_count": 5,
     "metadata": {},
     "output_type": "execute_result"
    }
   ],
   "source": [
    "# Check for missing values\n",
    "historical_w.isnull().sum()\n",
    "# Handle missing values (e.g., by filling or dropping)\n",
    "historical_w.fillna(method='ffill', inplace=True)\n",
    "historical_w.isnull().sum()"
   ]
  },
  {
   "cell_type": "code",
   "execution_count": 6,
   "id": "1fb3ca32",
   "metadata": {
    "execution": {
     "iopub.execute_input": "2024-06-22T13:27:41.266696Z",
     "iopub.status.busy": "2024-06-22T13:27:41.265325Z",
     "iopub.status.idle": "2024-06-22T13:27:41.512960Z",
     "shell.execute_reply": "2024-06-22T13:27:41.511517Z"
    },
    "papermill": {
     "duration": 0.25845,
     "end_time": "2024-06-22T13:27:41.516455",
     "exception": false,
     "start_time": "2024-06-22T13:27:41.258005",
     "status": "completed"
    },
    "tags": []
   },
   "outputs": [
    {
     "name": "stderr",
     "output_type": "stream",
     "text": [
      "/tmp/ipykernel_18/2549262604.py:16: FutureWarning: DataFrame.fillna with 'method' is deprecated and will raise in a future version. Use obj.ffill() or obj.bfill() instead.\n",
      "  historical_w.fillna(method='ffill', inplace=True)\n"
     ]
    },
    {
     "data": {
      "text/plain": [
       "city_id                  0\n",
       "date                     0\n",
       "avg_temp_c               0\n",
       "min_temp_c               0\n",
       "max_temp_c               0\n",
       "precipitation_mm        33\n",
       "snow_depth_mm         5452\n",
       "avg_wind_dir_deg         0\n",
       "avg_wind_speed_kmh       0\n",
       "year                     0\n",
       "month                    0\n",
       "day                      0\n",
       "dayofyear                0\n",
       "rolling_avg_temp         6\n",
       "dtype: int64"
      ]
     },
     "execution_count": 6,
     "metadata": {},
     "output_type": "execute_result"
    }
   ],
   "source": [
    "# Convert date column to datetime\n",
    "historical_w['date'] = pd.to_datetime(historical_w['date'])\n",
    "# Extract year, month, and day for further feature engineering\n",
    "historical_w['year'] = historical_w['date'].dt.year\n",
    "historical_w['month'] = historical_w['date'].dt.month\n",
    "historical_w['day'] = historical_w['date'].dt.day\n",
    "\n",
    "# Create additional features if necessary\n",
    "historical_w['dayofyear'] = historical_w['date'].dt.dayofyear\n",
    "\n",
    "# Example: Rolling average temperature for the past week\n",
    "historical_w['rolling_avg_temp'] = historical_w.groupby('city_id')['avg_temp_c'].transform(lambda x: x.rolling(window=7).mean())\n",
    "\n",
    "# Check the preprocessing results\n",
    "historical_w.head()\n",
    "historical_w.fillna(method='ffill', inplace=True)\n",
    "historical_w.isnull().sum()"
   ]
  },
  {
   "cell_type": "markdown",
   "id": "976fbc32",
   "metadata": {
    "papermill": {
     "duration": 0.00554,
     "end_time": "2024-06-22T13:27:41.528072",
     "exception": false,
     "start_time": "2024-06-22T13:27:41.522532",
     "status": "completed"
    },
    "tags": []
   },
   "source": [
    "# Model Building and Training"
   ]
  },
  {
   "cell_type": "code",
   "execution_count": 7,
   "id": "626efda2",
   "metadata": {
    "execution": {
     "iopub.execute_input": "2024-06-22T13:27:41.541625Z",
     "iopub.status.busy": "2024-06-22T13:27:41.541242Z",
     "iopub.status.idle": "2024-06-22T13:27:56.274644Z",
     "shell.execute_reply": "2024-06-22T13:27:56.273240Z"
    },
    "papermill": {
     "duration": 14.743458,
     "end_time": "2024-06-22T13:27:56.277419",
     "exception": false,
     "start_time": "2024-06-22T13:27:41.533961",
     "status": "completed"
    },
    "tags": []
   },
   "outputs": [
    {
     "name": "stdout",
     "output_type": "stream",
     "text": [
      "year                0\n",
      "month               0\n",
      "day                 0\n",
      "dayofyear           0\n",
      "rolling_avg_temp    0\n",
      "dtype: int64\n",
      "year                0\n",
      "month               0\n",
      "day                 0\n",
      "dayofyear           0\n",
      "rolling_avg_temp    0\n",
      "dtype: int64\n",
      "Mean Squared Error: 4.768074117131333\n"
     ]
    }
   ],
   "source": [
    "from sklearn.model_selection import train_test_split\n",
    "from sklearn.ensemble import GradientBoostingRegressor\n",
    "from sklearn.metrics import mean_squared_error\n",
    "\n",
    "# Prepare the data for model training\n",
    "X = historical_w[['year', 'month', 'day', 'dayofyear', 'rolling_avg_temp']]\n",
    "y = historical_w['avg_temp_c']\n",
    "\n",
    "# Split the data into training and validation sets\n",
    "X_train, X_val, y_train, y_val = train_test_split(X, y, test_size=0.2, random_state=42)\n",
    "\n",
    "# Check for Null values in X_train and X_val\n",
    "#print(X_train.isnull().sum())\n",
    "#print(X_val.isnull().sum())\n",
    "\n",
    "# Fill NaN values with the mean of the column\n",
    "X_train.fillna(X_train.mean(), inplace=True)\n",
    "X_val.fillna(X_val.mean(), inplace=True)\n",
    "\n",
    "print(X_train.isnull().sum())\n",
    "print(X_val.isnull().sum())\n",
    "\n",
    "\n",
    "# Train a model (Gradient Boosting Regressor as an example)\n",
    "model = GradientBoostingRegressor(n_estimators=100, learning_rate=0.1, max_depth=3, random_state=42)\n",
    "model.fit(X_train, y_train)\n",
    "\n",
    "# Validate the model\n",
    "y_pred = model.predict(X_val)\n",
    "mse = mean_squared_error(y_val, y_pred)\n",
    "print(f'Mean Squared Error: {mse}')\n"
   ]
  },
  {
   "cell_type": "markdown",
   "id": "42e52ce2",
   "metadata": {
    "papermill": {
     "duration": 0.005774,
     "end_time": "2024-06-22T13:27:56.289540",
     "exception": false,
     "start_time": "2024-06-22T13:27:56.283766",
     "status": "completed"
    },
    "tags": []
   },
   "source": [
    "# Prediction"
   ]
  },
  {
   "cell_type": "code",
   "execution_count": 8,
   "id": "f91420fd",
   "metadata": {
    "execution": {
     "iopub.execute_input": "2024-06-22T13:27:56.304812Z",
     "iopub.status.busy": "2024-06-22T13:27:56.304018Z",
     "iopub.status.idle": "2024-06-22T13:27:56.326295Z",
     "shell.execute_reply": "2024-06-22T13:27:56.324899Z"
    },
    "papermill": {
     "duration": 0.032871,
     "end_time": "2024-06-22T13:27:56.329143",
     "exception": false,
     "start_time": "2024-06-22T13:27:56.296272",
     "status": "completed"
    },
    "tags": []
   },
   "outputs": [
    {
     "name": "stdout",
     "output_type": "stream",
     "text": [
      "        date  year  month  day  dayofyear\n",
      "0 2019-01-01  2019      1    1          1\n",
      "1 2019-01-02  2019      1    2          2\n",
      "2 2019-01-03  2019      1    3          3\n",
      "3 2019-01-04  2019      1    4          4\n",
      "4 2019-01-05  2019      1    5          5\n",
      "5 2019-01-06  2019      1    6          6\n",
      "6 2019-01-07  2019      1    7          7\n"
     ]
    }
   ],
   "source": [
    "# Prepare the data for prediction\n",
    "first_week_2019 = pd.date_range(start='2019-01-01', end='2019-01-07')\n",
    "predict_data = pd.DataFrame({'date': first_week_2019})\n",
    "predict_data['year'] = predict_data['date'].dt.year\n",
    "predict_data['month'] = predict_data['date'].dt.month\n",
    "predict_data['day'] = predict_data['date'].dt.day\n",
    "predict_data['dayofyear'] = predict_data['date'].dt.dayofyear\n",
    "\n",
    "print(predict_data)\n",
    "\n",
    "predictions = []\n",
    "\n",
    "\n",
    "\n"
   ]
  },
  {
   "cell_type": "code",
   "execution_count": 9,
   "id": "52147ae0",
   "metadata": {
    "execution": {
     "iopub.execute_input": "2024-06-22T13:27:56.343610Z",
     "iopub.status.busy": "2024-06-22T13:27:56.343059Z",
     "iopub.status.idle": "2024-06-22T13:28:01.682853Z",
     "shell.execute_reply": "2024-06-22T13:28:01.681380Z"
    },
    "papermill": {
     "duration": 5.35088,
     "end_time": "2024-06-22T13:28:01.686282",
     "exception": false,
     "start_time": "2024-06-22T13:27:56.335402",
     "status": "completed"
    },
    "tags": []
   },
   "outputs": [],
   "source": [
    "for city_id in submission_key['city_id'].unique():\n",
    "    city_data = historical_w[historical_w['city_id'] == city_id]\n",
    "    city_data = pd.concat([city_data, predict_data], ignore_index=True)\n",
    "    city_data['rolling_avg_temp'] = historical_w['avg_temp_c'].rolling(window=7).mean()\n",
    "    \n",
    "    X_pred = city_data[['year', 'month', 'day', 'dayofyear', 'rolling_avg_temp']].tail(7)\n",
    "    y_pred = model.predict(X_pred)\n",
    "\n",
    "# Replace null values with zero in the entire DataFrame\n",
    "#city_data.fillna(0, inplace=True)\n",
    "    \n",
    "    for date, temp in zip(first_week_2019, y_pred):\n",
    "        submission_id = submission_key[(submission_key['city_id'] == city_id) & (submission_key['date'] == date.strftime('%Y-%m-%d'))]['submission_ID'].values[0]\n",
    "        predictions.append({'submission_ID': submission_id, 'avg_temp_c': temp})\n",
    "(city_data.tail(14))\n",
    "\n",
    "# Create the submission dataframe\n",
    "submission_df = pd.DataFrame(predictions)\n",
    "#print(submission_df[0:700])\n",
    "\n",
    "# Save submission to CSV\n",
    "submission_df.to_csv('sample_submission.csv', index=False)\n",
    "#!rm sample_submission.csv"
   ]
  }
 ],
 "metadata": {
  "kaggle": {
   "accelerator": "none",
   "dataSources": [
    {
     "databundleVersionId": 8892995,
     "sourceId": 81884,
     "sourceType": "competition"
    }
   ],
   "dockerImageVersionId": 30732,
   "isGpuEnabled": false,
   "isInternetEnabled": false,
   "language": "python",
   "sourceType": "notebook"
  },
  "kernelspec": {
   "display_name": "Python 3",
   "language": "python",
   "name": "python3"
  },
  "language_info": {
   "codemirror_mode": {
    "name": "ipython",
    "version": 3
   },
   "file_extension": ".py",
   "mimetype": "text/x-python",
   "name": "python",
   "nbconvert_exporter": "python",
   "pygments_lexer": "ipython3",
   "version": "3.10.13"
  },
  "papermill": {
   "default_parameters": {},
   "duration": 28.191137,
   "end_time": "2024-06-22T13:28:02.516872",
   "environment_variables": {},
   "exception": null,
   "input_path": "__notebook__.ipynb",
   "output_path": "__notebook__.ipynb",
   "parameters": {},
   "start_time": "2024-06-22T13:27:34.325735",
   "version": "2.5.0"
  }
 },
 "nbformat": 4,
 "nbformat_minor": 5
}
